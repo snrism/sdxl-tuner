{
  "nbformat": 4,
  "nbformat_minor": 0,
  "metadata": {
    "colab": {
      "provenance": [],
      "include_colab_link": true
    },
    "kernelspec": {
      "name": "python3",
      "display_name": "Python 3"
    },
    "language_info": {
      "name": "python"
    }
  },
  "cells": [
    {
      "cell_type": "markdown",
      "metadata": {
        "id": "view-in-github",
        "colab_type": "text"
      },
      "source": [
        "<a href=\"https://colab.research.google.com/github/snrism/sdxl-tuner/blob/main/Fine_tune_Images_SDXL_Model.ipynb\" target=\"_parent\"><img src=\"https://colab.research.google.com/assets/colab-badge.svg\" alt=\"Open In Colab\"/></a>"
      ]
    },
    {
      "cell_type": "markdown",
      "source": [
        "# SDXL Fine-tuning\n",
        "\n",
        "Stability AI open-sourced [SDXL](https://replicate.com/blog/run-sdxl-with-an-api), that allows you to fine tune diffusion models to learn patterns in input images.\n",
        "\n",
        "In this colab, you can use [Replicate](https://replicate.com) via [running from the web](https://replicate.com/stability-ai/sdxl) or using the [API](https://replicate.com/blog/run-sdxl-with-an-api) to tune a model."
      ],
      "metadata": {
        "id": "51L4ynq8qPLR"
      }
    },
    {
      "cell_type": "code",
      "source": [
        "!pip install replicate\n",
        "import os\n",
        "import replicate\n",
        "from google.colab import output\n",
        "output.clear()"
      ],
      "metadata": {
        "id": "gLWKQvpeqAHE"
      },
      "execution_count": null,
      "outputs": []
    },
    {
      "cell_type": "markdown",
      "source": [
        "Authenticate by setting your token in an environment variable:"
      ],
      "metadata": {
        "id": "iVf3RWPKqKeb"
      }
    },
    {
      "cell_type": "code",
      "source": [
        "# get your token from https://replicate.com/account\n",
        "from getpass import getpass\n",
        "\n",
        "REPLICATE_API_TOKEN = getpass()\n",
        "os.environ[\"REPLICATE_API_TOKEN\"] = \"YOUR_REPLICATE_API_TOKEN\""
      ],
      "metadata": {
        "colab": {
          "base_uri": "https://localhost:8080/"
        },
        "id": "NuZ8DpPcqJ0w",
        "outputId": "612b66c1-5c48-45fc-a9a6-14d9b1a34071"
      },
      "execution_count": null,
      "outputs": [
        {
          "name": "stdout",
          "output_type": "stream",
          "text": [
            "··········\n"
          ]
        }
      ]
    },
    {
      "cell_type": "markdown",
      "source": [
        "## Prepare your training images\n",
        "\n",
        "- Images can be of yourself or a particular style like illustrations. - Images can be in JPEG or PNG format.\n",
        "- Dimensions and size don't matter.\n",
        "- Filenames don't matter.\n",
        "\n",
        "Zip your images.\n",
        "\n",
        "```console\n",
        "zip -r data.zip data\n",
        "```\n",
        "\n",
        "Upload this file somewhere on the internet that is publicly accessible, like an GCS bucket, S3 bucket or a GitHub Pages site."
      ],
      "metadata": {
        "id": "mNepKK_OquqM"
      }
    },
    {
      "cell_type": "markdown",
      "source": [
        "\n",
        "## Create a model\n",
        "\n",
        "Create a model by reusing the owner name below. Set the model name and feel free to reuse the devault visibility and hardware values.\n",
        "\n",
        "You can also create a model via [replicate.com/create](https://replicate.com/create)."
      ],
      "metadata": {
        "id": "A7MAt8gZq4h1"
      }
    },
    {
      "cell_type": "code",
      "source": [
        "import replicate\n",
        "\n",
        "replicate.models.create(\n",
        "    owner=\"snrism\",\n",
        "    name=\"YOUR_MODEL_NAME\",\n",
        "    visibility=\"private\",\n",
        "    hardware=\"gpu-a40-large\"\n",
        ")"
      ],
      "metadata": {
        "id": "DIN9aOdK7EYc",
        "outputId": "484d385c-7297-4bb6-ae07-b9458055e408",
        "colab": {
          "base_uri": "https://localhost:8080/"
        }
      },
      "execution_count": null,
      "outputs": [
        {
          "output_type": "execute_result",
          "data": {
            "text/plain": [
              "Model(url='https://replicate.com/snrism/sdxl-test1', owner='snrism', name='sdxl-test1', description=None, visibility='private', github_url=None, paper_url=None, license_url=None, run_count=0, cover_image_url=None, default_example=None, latest_version=None)"
            ]
          },
          "metadata": {},
          "execution_count": 3
        }
      ]
    },
    {
      "cell_type": "markdown",
      "source": [
        "Use the following to get the model object to retrieve the latest version of the model.\n",
        "\n",
        "Look for the version attribute which is required to create a new training instance below."
      ],
      "metadata": {
        "id": "KE7vhvf0YsG8"
      }
    },
    {
      "cell_type": "code",
      "source": [
        "model = replicate.models.get(\"stability-ai/sdxl\")"
      ],
      "metadata": {
        "id": "n8T3Q7VB7ONn"
      },
      "execution_count": null,
      "outputs": []
    },
    {
      "cell_type": "markdown",
      "source": [
        "## Start the training"
      ],
      "metadata": {
        "id": "jr8j63kFqijO"
      }
    },
    {
      "cell_type": "code",
      "source": [
        "import replicate\n",
        "\n",
        "training = replicate.trainings.create(\n",
        "    version=\"stability-ai/sdxl:c221b2b8ef527988fb59bf24a8b97c4561f1c671f73bd389f866bfb27c061316\",\n",
        "    input={\n",
        "        \"input_images\": \"YOUR_ZIP_FILE\",\n",
        "        \"caption_prefix\": \"<UNIQUE CAPTION USED IN YOUR PROMPT. YOU CAN REMOVE IT.>\",\n",
        "        \"token_string\": \"<UNIQUE IDENTIFIER TO REFER TO YOUR IMAGES. e.g., a photo of TOK>\",\n",
        "        \"use_face_detection_instead\": False,\n",
        "        \"is_lora\": True,\n",
        "    },\n",
        "    destination=\"snrism/<YOUR_MODEL_NAME>\"\n",
        ")"
      ],
      "metadata": {
        "id": "0AefVmqxLIjY"
      },
      "execution_count": null,
      "outputs": []
    },
    {
      "cell_type": "markdown",
      "source": [
        "## Monitor training progress\n",
        "\n",
        "To follow the progress of the training job, run the following code to track the training status."
      ],
      "metadata": {
        "id": "HGiaTo2frZ8I"
      }
    },
    {
      "cell_type": "code",
      "source": [
        "import time\n",
        "\n",
        "# Continuously reload the training object and check the status\n",
        "while True:\n",
        "    # Reload the training status\n",
        "    training.reload()\n",
        "\n",
        "    # Print the current status\n",
        "    print(f\"Status: {training.status}\")\n",
        "\n",
        "    # Check if the status is 'processing'\n",
        "    if training.status == 'processing':\n",
        "        # Show the last 10 lines of logs\n",
        "        print(\"\\n\".join(training.logs.split(\"\\n\")[-10:]))\n",
        "\n",
        "    elif training.status == 'succeeded':\n",
        "        # Print final logs when succeeded and break the loop\n",
        "        print(\"\\nTraining succeeded! Here are the final logs:\")\n",
        "        break\n",
        "\n",
        "    elif training.status == 'failed':\n",
        "        # If training failed, print the error message and break the loop\n",
        "        print(\"Training failed. Here are the logs:\")\n",
        "        print(\"\\n\".join(training.logs.split(\"\\n\")))\n",
        "        break\n",
        "\n",
        "    # Wait for a few seconds before rechecking (you can adjust the interval)\n",
        "    time.sleep(2)"
      ],
      "metadata": {
        "id": "YkRQwY-AtNu2"
      },
      "execution_count": null,
      "outputs": []
    },
    {
      "cell_type": "markdown",
      "source": [
        "## Run the model\n",
        "\n",
        "When the model has finished training you can run it using the GUI on replicate.com/my-name/my-model, or via the API:\n"
      ],
      "metadata": {
        "id": "5kk3zlqkrl8M"
      }
    },
    {
      "cell_type": "code",
      "source": [
        "output = replicate.run(\n",
        "    \"snrism/<YOUR_MODEL_NAME>\",\n",
        "    input={\"prompt\": \"kids playing in playground\"},\n",
        ")"
      ],
      "metadata": {
        "id": "D5RVsCNPro1X"
      },
      "execution_count": null,
      "outputs": []
    }
  ]
}